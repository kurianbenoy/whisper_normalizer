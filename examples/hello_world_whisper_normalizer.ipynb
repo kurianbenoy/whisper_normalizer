{
  "nbformat": 4,
  "nbformat_minor": 0,
  "metadata": {
    "colab": {
      "provenance": []
    },
    "kernelspec": {
      "name": "python3",
      "display_name": "Python 3"
    },
    "language_info": {
      "name": "python"
    }
  },
  "cells": [
    {
      "cell_type": "markdown",
      "source": [
        "## Hello world to Whisper_noralizer"
      ],
      "metadata": {
        "id": "pvbxJBUQlW6W"
      }
    },
    {
      "cell_type": "code",
      "execution_count": null,
      "metadata": {
        "colab": {
          "base_uri": "https://localhost:8080/"
        },
        "id": "S9HuT7dNlP2m",
        "outputId": "918635e2-f2c8-4294-e638-2ca480b0a595"
      },
      "outputs": [
        {
          "output_type": "stream",
          "name": "stdout",
          "text": [
            "\u001b[2K     \u001b[90m━━━━━━━━━━━━━━━━━━━━━━━━━━━━━━━━━━━━━━━━\u001b[0m \u001b[32m3.4/3.4 MB\u001b[0m \u001b[31m9.0 MB/s\u001b[0m eta \u001b[36m0:00:00\u001b[0m\n",
            "\u001b[?25h"
          ]
        }
      ],
      "source": [
        "! pip install -Uqq whisper_normalizer jiwer"
      ]
    },
    {
      "cell_type": "code",
      "source": [
        "from jiwer import wer, cer"
      ],
      "metadata": {
        "id": "-wseTvJMne6i"
      },
      "execution_count": null,
      "outputs": []
    },
    {
      "cell_type": "markdown",
      "source": [
        "**WER  - Word Error Rate**\n",
        "\n",
        "**CER - Charater Error Rate**\n",
        "\n",
        "\n",
        "ASR evaluation requires - ground truth and ASR output\n",
        "\n",
        "WER & CER are calcuated by comparing ground truth and ASR output.\n",
        "\n",
        "Both WER & CER - leser is the better\n",
        "\n",
        "Accuracy = (1 -WER)*100\n",
        "\n",
        "![](https://www.datocms-assets.com/96965/1683968324-wer-1.jpg)"
      ],
      "metadata": {
        "id": "6gIuxeHhoAC6"
      }
    },
    {
      "cell_type": "code",
      "source": [
        "asr_output = \"I'm a little teapot, short and stout. Tip me over and pour me out!\""
      ],
      "metadata": {
        "id": "ixRw2KWJn9xz"
      },
      "execution_count": null,
      "outputs": []
    },
    {
      "cell_type": "code",
      "source": [
        "ground_truth = \"I am a litte teapot, short and stout. tip me over and pour me out.\""
      ],
      "metadata": {
        "id": "svW-XRlwo4y2"
      },
      "execution_count": null,
      "outputs": []
    },
    {
      "cell_type": "code",
      "source": [
        "\n",
        "wer(ground_truth, asr_output)"
      ],
      "metadata": {
        "colab": {
          "base_uri": "https://localhost:8080/"
        },
        "id": "qenl1cm-pC4z",
        "outputId": "f9802b2c-ec82-4447-b54c-d3e5465d8572"
      },
      "execution_count": null,
      "outputs": [
        {
          "output_type": "execute_result",
          "data": {
            "text/plain": [
              "0.3333333333333333"
            ]
          },
          "metadata": {},
          "execution_count": 8
        }
      ]
    },
    {
      "cell_type": "code",
      "source": [
        "from whisper_normalizer.english import EnglishTextNormalizer"
      ],
      "metadata": {
        "id": "RVSlHRW7pWqa"
      },
      "execution_count": null,
      "outputs": []
    },
    {
      "cell_type": "code",
      "source": [
        "normalizer = EnglishTextNormalizer()"
      ],
      "metadata": {
        "id": "ZST_EN6-n61r"
      },
      "execution_count": null,
      "outputs": []
    },
    {
      "cell_type": "code",
      "source": [
        "normalizer(asr_output)"
      ],
      "metadata": {
        "colab": {
          "base_uri": "https://localhost:8080/",
          "height": 36
        },
        "id": "AYQVNRi2pgsC",
        "outputId": "80949ffe-d3da-48c0-8e5b-ae9aee69c3a1"
      },
      "execution_count": null,
      "outputs": [
        {
          "output_type": "execute_result",
          "data": {
            "text/plain": [
              "'i am a little teapot short and stout tip me over and pour me out'"
            ],
            "application/vnd.google.colaboratory.intrinsic+json": {
              "type": "string"
            }
          },
          "metadata": {},
          "execution_count": 11
        }
      ]
    },
    {
      "cell_type": "code",
      "source": [
        "normalizer(ground_truth)"
      ],
      "metadata": {
        "colab": {
          "base_uri": "https://localhost:8080/",
          "height": 36
        },
        "id": "4tzG8H_xpiHs",
        "outputId": "872d8dcd-e27f-45d6-8745-f4a56c607f1a"
      },
      "execution_count": null,
      "outputs": [
        {
          "output_type": "execute_result",
          "data": {
            "text/plain": [
              "'i am a litte teapot short and stout tip me over and pour me out'"
            ],
            "application/vnd.google.colaboratory.intrinsic+json": {
              "type": "string"
            }
          },
          "metadata": {},
          "execution_count": 12
        }
      ]
    },
    {
      "cell_type": "code",
      "source": [
        "wer(normalizer(ground_truth), normalizer(asr_output))"
      ],
      "metadata": {
        "colab": {
          "base_uri": "https://localhost:8080/"
        },
        "id": "fzaKt9QPpxWc",
        "outputId": "3dbccc24-1840-4755-bc5d-f91e33ccba1e"
      },
      "execution_count": null,
      "outputs": [
        {
          "output_type": "execute_result",
          "data": {
            "text/plain": [
              "0.06666666666666667"
            ]
          },
          "metadata": {},
          "execution_count": 13
        }
      ]
    },
    {
      "cell_type": "code",
      "source": [
        "from whisper_normalizer.basic import BasicTextNormalizer"
      ],
      "metadata": {
        "id": "7qWqYARwqAoh"
      },
      "execution_count": null,
      "outputs": []
    },
    {
      "cell_type": "code",
      "source": [
        "BasicTextNormalizer?"
      ],
      "metadata": {
        "id": "UprQxRSwqHSb"
      },
      "execution_count": null,
      "outputs": []
    },
    {
      "cell_type": "markdown",
      "source": [
        "## why I don't like BasicTextNormalizer, is because it doesn't work for my mother tongue Malayalam."
      ],
      "metadata": {
        "id": "s1REfe1WqOSq"
      }
    },
    {
      "cell_type": "code",
      "source": [
        "n = BasicTextNormalizer()"
      ],
      "metadata": {
        "id": "7lmDPPGVqVW2"
      },
      "execution_count": null,
      "outputs": []
    },
    {
      "cell_type": "code",
      "source": [
        "t = \"ഗുണ്ടാവിരുന്നിൽ പങ്കെടുത്ത DySP സാബുവിനെ സസ്‌പെൻഡ് ചെയ്യാൻ നിർദേശം നൽകി മുഖ്യമന്ത്രി\""
      ],
      "metadata": {
        "id": "Vmd6IWzvqrE3"
      },
      "execution_count": null,
      "outputs": []
    },
    {
      "cell_type": "code",
      "source": [
        "n(\"ഗുണ്ടാവിരുന്നിൽ പങ്കെടുത്ത DySP സാബുവിനെ സസ്‌പെൻഡ് ചെയ്യാൻ നിർദേശം നൽകി മുഖ്യമന്ത്രി\")"
      ],
      "metadata": {
        "colab": {
          "base_uri": "https://localhost:8080/",
          "height": 36
        },
        "id": "5QKdMsh7qa_Q",
        "outputId": "2b7ce7ff-7374-4cc1-f630-ee88b3a2c225"
      },
      "execution_count": null,
      "outputs": [
        {
          "output_type": "execute_result",
          "data": {
            "text/plain": [
              "'ഗ ണ ട വ ര ന ന ൽ പങ ക ട ത ത dysp സ ബ വ ന സസ \\u200cപ ൻഡ ച യ യ ൻ ന ർദ ശ നൽക മ ഖ യമന ത ര '"
            ],
            "application/vnd.google.colaboratory.intrinsic+json": {
              "type": "string"
            }
          },
          "metadata": {},
          "execution_count": 18
        }
      ]
    },
    {
      "cell_type": "code",
      "source": [],
      "metadata": {
        "id": "6e4st_qcrCFR"
      },
      "execution_count": null,
      "outputs": []
    },
    {
      "cell_type": "code",
      "source": [
        "from whisper_normalizer.indic_normalizer import MalayalamNormalizer"
      ],
      "metadata": {
        "id": "HIrIiH9CrCRC"
      },
      "execution_count": null,
      "outputs": []
    },
    {
      "cell_type": "code",
      "source": [
        "normalizer = MalayalamNormalizer()"
      ],
      "metadata": {
        "id": "po_9JXAErEva"
      },
      "execution_count": null,
      "outputs": []
    },
    {
      "cell_type": "code",
      "source": [
        "normalizer(t)"
      ],
      "metadata": {
        "colab": {
          "base_uri": "https://localhost:8080/",
          "height": 36
        },
        "id": "JPKFciQxpkMK",
        "outputId": "c7dc9bb7-2c65-4de0-8281-bc4ec629a67f"
      },
      "execution_count": null,
      "outputs": [
        {
          "output_type": "execute_result",
          "data": {
            "text/plain": [
              "'ഗുണ്ടാവിരുന്നിൽ പങ്കെടുത്ത DySP സാബുവിനെ സസ്പെൻഡ് ചെയ്യാൻ നിർദേശം നൽകി മുഖ്യമന്ത്രി'"
            ],
            "application/vnd.google.colaboratory.intrinsic+json": {
              "type": "string"
            }
          },
          "metadata": {},
          "execution_count": 21
        }
      ]
    },
    {
      "cell_type": "code",
      "source": [],
      "metadata": {
        "id": "7_sO7ZE3rKDJ"
      },
      "execution_count": null,
      "outputs": []
    }
  ]
}