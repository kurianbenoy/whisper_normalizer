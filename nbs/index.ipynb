{
 "cells": [
  {
   "cell_type": "markdown",
   "metadata": {},
   "source": [
    "# whisper_normalizer"
   ]
  },
  {
   "cell_type": "markdown",
   "metadata": {},
   "source": [
    "> A python package for text standardisation/normalization. It uses normalization algorithm mentioned in OpenAI whisper paper. Using Whisper normalization can cause issues in Indic languages and other low resource languages when using `BasicTextNormalizer`. So normalization in Indic languages is also implemented in this package which was derived from [indic-nlp-library](https://github.com/anoopkunchukuttan/indic_nlp_library).\n",
    "\n",
    "\n",
    "[![Github license](https://img.shields.io/github/license/kurianbenoy/whisper_normalizer.svg)](https://github.com/kurianbenoy/whisper_normalizer/blob/main/LICENSE)\n",
    "[![Github Stars](https://img.shields.io/github/stars/kurianbenoy/whisper_normalizer.svg?colorA=orange&colorB=orange&logo=github)](https://github.com/kurianbenoy/whisper_normalizer/stargazers)\n",
    "[![PyPI version](https://img.shields.io/pypi/v/whisper-normalizer.svg?style=flat-square&logo=pypi&logoColor=white)](https://pypi.org/project/whisper-normalizer/)\n",
    "<!-- [![Downloads](https://static.pepy.tech/badge/whisper-normalizer)](https://github.com/kurianbenoy/whisper_normalizer) -->\n",
    "<!-- [![python version](https://img.shields.io/badge/Python-%3E=3.7-blue)](https://github.com/kurianbenoy/whisper_normalizer)\n",
    "[![python version](https://img.shields.io/badge/Python-<3.12-blue)](https://github.com/kurianbenoy/whisper_normalizer) -->"
   ]
  },
  {
   "cell_type": "markdown",
   "metadata": {},
   "source": [
    "This package is a python implementation of the text standardisation/normalization approach which is being used in OpenAI whisper. The code was originally being released as open-source in [Whisper source code](https://github.com/openai/whisper). More details about the text normalization approach used by whisper can be found on Appendix Section C pp.21 the paper [Robust Speech Recognition via Large-Scale  Weak Supervision](https://cdn.openai.com/papers/whisper.pdf) by OpenAI team."
   ]
  },
  {
   "attachments": {},
   "cell_type": "markdown",
   "metadata": {},
   "source": [
    "## Installation of package"
   ]
  },
  {
   "attachments": {},
   "cell_type": "markdown",
   "metadata": {},
   "source": [
    "```sh\n",
    "pip install whisper_normalizer\n",
    "```\n",
    "\n",
    "or from github repository\n",
    "\n",
    "```sh\n",
    "pip install git+https://github.com/kurianbenoy/whisper_normalizer.git\n",
    "```"
   ]
  },
  {
   "cell_type": "markdown",
   "metadata": {},
   "source": [
    "## How to use the package\n",
    "\n",
    "- I made a video walk through on how to use the `whisper_normalizer` python package.\n",
    "\n",
    "[Colab Notebook Link of walk through](https://colab.research.google.com/gist/kurianbenoy/7d27d9ec193a4a97ec7821235bddc506/hello-world_whisper_normalizer.ipynb)\n",
    "\n",
    "[Github Gist Link of walk through](https://gist.github.com/kurianbenoy/7d27d9ec193a4a97ec7821235bddc506)\n",
    "\n",
    "[![Hello world to whisper_normalizer](https://img.youtube.com/vi/c7trf0zul6g/0.jpg)](https://www.youtube.com/watch?v=c7trf0zul6g)\n"
   ]
  },
  {
   "attachments": {},
   "cell_type": "markdown",
   "metadata": {},
   "source": [
    "## Why should we normalize/standardize text?\n",
    "\n",
    "- In ASR systems it’s important to normalize the text to reduce unintentional penalties in\n",
    "  metrics like WER, CER etc.\n",
    "- Text normalization/standardization is process of converting texts in different styles into a standardized form, which is a best-effort attempt to penalize only when a word error is caused by actually mistranscribing a word, and not by formatting or punctuation differences.(from [Whisper paper](https://cdn.openai.com/papers/whisper.pdf))\n",
    "\n",
    "## Why use this python package?\n",
    "\n",
    "This package is a python implementation of the text standardisation/normalization approach which is being used in OpenAI whisper text normalizer. If you want to use just text normalization alone, it's better to use this\n",
    "instead reimplementing the same thing. OpenAI approach of text normalization is very helpful and is being used as normalization step when evaluating competitive models like [AssemblyAI Conformer-1 model](https://www.assemblyai.com/blog/conformer-1/).\n",
    "\n",
    "## Models evaluated using Whisper normalization\n",
    "\n",
    "- OpenAI Whisper\n",
    "- Massively Multilingual Speech (MMS) models by Meta\n",
    "- Conformer 1 by AssemblyAI\n",
    "- Conformer 2 by AssemblyAI"
   ]
  },
  {
   "attachments": {},
   "cell_type": "markdown",
   "metadata": {},
   "source": [
    "## How to use\n",
    "\n",
    "OpenAI open source approach of text normalization/standardization is mentioned in detail Appendix Section C pp.21 the paper [Robust Speech Recognition via Large-Scale  Weak Supervision](https://cdn.openai.com/papers/whisper.pdf).\n",
    "\n",
    "Whisper Normalizer by default comes with two classes `BasicTextNormalizer` and `EnglishTextNormalizer`\n",
    "\n",
    "You can use the same thing in this package as follows:"
   ]
  },
  {
   "cell_type": "code",
   "execution_count": null,
   "metadata": {},
   "outputs": [
    {
     "data": {
      "text/plain": [
       "'i am a little teapot short and stout tip me over and pour me out'"
      ]
     },
     "execution_count": null,
     "metadata": {},
     "output_type": "execute_result"
    }
   ],
   "source": [
    "# |eval: false\n",
    "from whisper_normalizer.english import EnglishTextNormalizer\n",
    "\n",
    "english_normalizer = EnglishTextNormalizer()\n",
    "english_normalizer(\"I'm a little teapot, short and stout. Tip me over and pour me out!\")"
   ]
  },
  {
   "cell_type": "code",
   "execution_count": null,
   "metadata": {},
   "outputs": [
    {
     "data": {
      "text/plain": [
       "'i m a little teapot short and stout tip me over and pour me out '"
      ]
     },
     "execution_count": null,
     "metadata": {},
     "output_type": "execute_result"
    }
   ],
   "source": [
    "# |eval: false\n",
    "from whisper_normalizer.basic import BasicTextNormalizer\n",
    "\n",
    "normalizer = BasicTextNormalizer()\n",
    "normalizer(\"I'm a little teapot, short and stout. Tip me over and pour me out!\")"
   ]
  },
  {
   "cell_type": "markdown",
   "metadata": {},
   "source": [
    "## Using BasicTextNormalizer in your mother tongue might be a bad idea\n",
    "\n",
    "Whisper Text Normalizer is not always recommended to be used. [Dr Kavya Manohar](https://www.linkedin.com/in/kavya-manohar/) has written a blogpost on why it might be a bad idea on her [blopost titled Indian Languages and Text Normalization: Part 1](https://kavyamanohar.com/post/indic-normalizer/)."
   ]
  },
  {
   "cell_type": "markdown",
   "metadata": {},
   "source": [
    "## This model extends Whisper_normalizer to support Indic languages as well. \n",
    "\n",
    "The logic for normalization in Indic languages is derived from [indic-nlp-library](https://github.com/anoopkunchukuttan/indic_nlp_library). The logic for Malayalam normalization is expanded beyond the Indic NLP library by `MalayalamNormalizer`."
   ]
  },
  {
   "cell_type": "code",
   "execution_count": null,
   "metadata": {},
   "outputs": [
    {
     "data": {
      "text/plain": [
       "'എന്റെ കമ്പ്യൂട്ടറിന് എന്റെ ഭാഷ.'"
      ]
     },
     "execution_count": null,
     "metadata": {},
     "output_type": "execute_result"
    }
   ],
   "source": [
    "# |eval: false\n",
    "from whisper_normalizer.indic_normalizer import MalayalamNormalizer\n",
    "\n",
    "normalizer = MalayalamNormalizer()\n",
    "normalizer(\"എന്റെ കമ്പ്യൂട്ടറിനു് എന്റെ ഭാഷ.\")"
   ]
  },
  {
   "cell_type": "code",
   "execution_count": null,
   "metadata": {},
   "outputs": [],
   "source": []
  }
 ],
 "metadata": {
  "kernelspec": {
   "display_name": "python3",
   "language": "python",
   "name": "python3"
  }
 },
 "nbformat": 4,
 "nbformat_minor": 4
}
